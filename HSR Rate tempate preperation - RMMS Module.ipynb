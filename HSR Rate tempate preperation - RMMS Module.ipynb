{
 "cells": [
  {
   "cell_type": "markdown",
   "id": "21ddcdf7",
   "metadata": {},
   "source": [
    "# Preperation of Dataset as compatible to RMMS HSR Table"
   ]
  },
  {
   "cell_type": "markdown",
   "id": "9b85d099",
   "metadata": {},
   "source": [
    "Load CSV file into a pandas DataFrame. Final CSV Contain Itm cd, Extracted district name and rate. those 3 columns of data has been extracted from HSR copy. Each step, i use print() function to illustrate the outcome and verify the result."
   ]
  },
  {
   "cell_type": "code",
   "execution_count": 192,
   "id": "ff3cc2a5",
   "metadata": {},
   "outputs": [
    {
     "name": "stdout",
     "output_type": "stream",
     "text": [
      "    Itmcd         district    rate\n",
      "0  B0-001  AMPARA DISTRICT  2900.0\n",
      "1  B0-002  AMPARA DISTRICT  2600.0\n",
      "2  B0-003  AMPARA DISTRICT  2500.0\n",
      "3  B0-004  AMPARA DISTRICT  2300.0\n",
      "4  B0-101  AMPARA DISTRICT   100.0\n"
     ]
    }
   ],
   "source": [
    "import pandas as pd\n",
    "\n",
    "df = pd.read_csv('Final csv.csv')\n",
    "\n",
    "print(df.head())\n"
   ]
  },
  {
   "cell_type": "code",
   "execution_count": 193,
   "id": "a472f35f",
   "metadata": {},
   "outputs": [],
   "source": [
    "column_name = df.columns[0]"
   ]
  },
  {
   "cell_type": "code",
   "execution_count": 194,
   "id": "b15e44ec",
   "metadata": {},
   "outputs": [
    {
     "name": "stdout",
     "output_type": "stream",
     "text": [
      "(7290, 3)\n"
     ]
    }
   ],
   "source": [
    "print(df.shape)"
   ]
  },
  {
   "cell_type": "markdown",
   "id": "5bb71786",
   "metadata": {},
   "source": [
    "This is to extract column values of district names. due to the scanning, water mark or several reason, we have to make sure all the data are in order. this step is just to check the quality of the process."
   ]
  },
  {
   "cell_type": "code",
   "execution_count": 195,
   "id": "3d229aa6",
   "metadata": {},
   "outputs": [],
   "source": [
    "# Get the first column values as a list\n",
    "column_values = df.iloc[:, 1].tolist()"
   ]
  },
  {
   "cell_type": "markdown",
   "id": "ac6eb29b",
   "metadata": {},
   "source": [
    "Print the data at the end of each step is just to verify we are in the correct path."
   ]
  },
  {
   "cell_type": "code",
   "execution_count": 196,
   "id": "e251caed",
   "metadata": {},
   "outputs": [
    {
     "name": "stdout",
     "output_type": "stream",
     "text": [
      "['AMPARA DISTRICT', 'BADULLA DISTRICT', 'BATTICALOA DISTRICT', 'COLOMBO DISTRICT', 'GAMPAHA DISTRICT', 'JAFFNA DISTRICT', 'KALUTARA DISTRICT', 'MONARAGALA DISTRICT', 'TRINCOMALEE DISTRICT']\n"
     ]
    }
   ],
   "source": [
    "# Get the unique values from the first column\n",
    "column_values_unique = df.iloc[:, 1].drop_duplicates().tolist()\n",
    "\n",
    "print(column_values_unique)"
   ]
  },
  {
   "cell_type": "code",
   "execution_count": 197,
   "id": "d9f0fa94",
   "metadata": {
    "scrolled": true
   },
   "outputs": [
    {
     "name": "stdout",
     "output_type": "stream",
     "text": [
      "AMPARA DISTRICT\n",
      "BADULLA DISTRICT\n",
      "BATTICALOA DISTRICT\n",
      "COLOMBO DISTRICT\n",
      "GAMPAHA DISTRICT\n",
      "JAFFNA DISTRICT\n",
      "KALUTARA DISTRICT\n",
      "MONARAGALA DISTRICT\n",
      "TRINCOMALEE DISTRICT\n"
     ]
    }
   ],
   "source": [
    "for value in column_values_unique:\n",
    "    print(value)"
   ]
  },
  {
   "cell_type": "markdown",
   "id": "d718849b",
   "metadata": {},
   "source": [
    "This is the list of provincial codes which we are using in RMMS Template. there may be a different in extracted values and provincial code."
   ]
  },
  {
   "cell_type": "code",
   "execution_count": 198,
   "id": "e0ced1ce",
   "metadata": {},
   "outputs": [
    {
     "name": "stdout",
     "output_type": "stream",
     "text": [
      "[['011', 'Colombo'], ['012', 'Gampaha'], ['013', 'Kalutara'], ['021', 'Kandy'], ['022', 'Matale'], ['023', 'Nuwara Eliya'], ['031', 'Galle'], ['032', 'Matara'], ['033', 'Hambantota'], ['041', 'Jaffna'], ['042', 'Vavuniya'], ['043', 'Mullaitivu'], ['051', 'Batticaloa'], ['052', 'Trincomalee'], ['061', 'Kurunegala'], ['062', 'Chilaw'], ['071', 'Anuradhapura'], ['072', 'Polonnaruwa'], ['081', 'Badulla'], ['082', 'Monaragala'], ['091', 'Ratnapura'], ['092', 'Kegalle'], ['101', 'Ampara'], ['102', 'Akkaraipattu']]\n"
     ]
    }
   ],
   "source": [
    "# Define the data as a list\n",
    "data = [\n",
    "    ['011', 'Colombo'],\n",
    "    ['012', 'Gampaha'],\n",
    "    ['013', 'Kalutara'],\n",
    "    ['021', 'Kandy'],\n",
    "    ['022', 'Matale'],\n",
    "    ['023', 'Nuwara Eliya'],\n",
    "    ['031', 'Galle'],\n",
    "    ['032', 'Matara'],\n",
    "    ['033', 'Hambantota'],\n",
    "    ['041', 'Jaffna'],\n",
    "    ['042', 'Vavuniya'],\n",
    "    ['043', 'Mullaitivu'],\n",
    "    ['051', 'Batticaloa'],\n",
    "    ['052', 'Trincomalee'],\n",
    "    ['061', 'Kurunegala'],\n",
    "    ['062', 'Chilaw'],\n",
    "    ['071', 'Anuradhapura'],\n",
    "    ['072', 'Polonnaruwa'],\n",
    "    ['081', 'Badulla'],\n",
    "    ['082', 'Monaragala'],\n",
    "    ['091', 'Ratnapura'],\n",
    "    ['092', 'Kegalle'],\n",
    "    ['101', 'Ampara'],\n",
    "    ['102', 'Akkaraipattu']\n",
    "]\n",
    "\n",
    "# Print the dictionary\n",
    "print(data)\n"
   ]
  },
  {
   "cell_type": "code",
   "execution_count": 199,
   "id": "f49de5cf",
   "metadata": {},
   "outputs": [
    {
     "name": "stdout",
     "output_type": "stream",
     "text": [
      "{'011': 'Colombo', '012': 'Gampaha', '013': 'Kalutara', '021': 'Kandy', '022': 'Matale', '023': 'Nuwara Eliya', '031': 'Galle', '032': 'Matara', '033': 'Hambantota', '041': 'Jaffna', '042': 'Vavuniya', '043': 'Mullaitivu', '051': 'Batticaloa', '052': 'Trincomalee', '061': 'Kurunegala', '062': 'Chilaw', '071': 'Anuradhapura', '072': 'Polonnaruwa', '081': 'Badulla', '082': 'Monaragala', '091': 'Ratnapura', '092': 'Kegalle', '101': 'Ampara', '102': 'Akkaraipattu'}\n"
     ]
    }
   ],
   "source": [
    "# Convert the list to a dictionary\n",
    "data_dict = {item[0]: item[1] for item in data}\n",
    "print (data_dict)"
   ]
  },
  {
   "cell_type": "markdown",
   "id": "bd1dd909",
   "metadata": {},
   "source": [
    "Province cd is replaced in to the district name and new dataframe is created with Itemcd, ProvinceCd,Amount. this is the end of preperation of 1st csv file data frame."
   ]
  },
  {
   "cell_type": "code",
   "execution_count": 200,
   "id": "a8b6dab9",
   "metadata": {},
   "outputs": [
    {
     "name": "stdout",
     "output_type": "stream",
     "text": [
      "        Itmcd district     rate\n",
      "0      B0-001      101  2900.00\n",
      "1      B0-002      101  2600.00\n",
      "2      B0-003      101  2500.00\n",
      "3      B0-004      101  2300.00\n",
      "4      B0-101      101   100.00\n",
      "...       ...      ...      ...\n",
      "7285  MS1-067      052  4420.30\n",
      "7286  MS1-068      052  5893.75\n",
      "7287  MS1-069      052  4830.25\n",
      "7288  MS1-070      052  7174.95\n",
      "7289  MS1-071      052     7.50\n",
      "\n",
      "[7290 rows x 3 columns]\n"
     ]
    }
   ],
   "source": [
    "# Define a dictionary to map unique values to new values\n",
    "value_mapping = {\n",
    "    'AMPARA DISTRICT' : '101' ,\n",
    "    'BADULLA DISTRICT' : '081' ,\n",
    "    'BATTICALOA DISTRICT' : '051',\n",
    "    'COLOMBO DISTRICT' : '011',\n",
    "    'GAMPAHA DISTRICT' : '012',\n",
    "    'JAFFNA DISTRICT' : '041',\n",
    "    'KALUTARA DISTRICT' : '013',\n",
    "    'MONARAGALA DISTRICT' : '082',\n",
    "    'TRINCOMALEE DISTRICT' : '052',\n",
    "    }\n",
    "\n",
    "# Replace the unique values in the first column with new values\n",
    "df.iloc[:, 1].replace(value_mapping, inplace=True)\n",
    "\n",
    "# Print the updated DataFrame\n",
    "print(df)"
   ]
  },
  {
   "cell_type": "markdown",
   "id": "3f857fc9",
   "metadata": {},
   "source": [
    "RMMS Unitrate template is with few description columns. to complete the template, we have to merge both extracted rates and asscoiate description columns\n"
   ]
  },
  {
   "cell_type": "code",
   "execution_count": 201,
   "id": "42f2e06e",
   "metadata": {
    "scrolled": true
   },
   "outputs": [
    {
     "name": "stdout",
     "output_type": "stream",
     "text": [
      "     Itmcd  ItmNo   GrpCd                               GrpCap  \\\n",
      "0  MS1-021     40     Gen                      General up keep   \n",
      "1   B0-114     41  RedHig  Reducing highside using motorgrader   \n",
      "2   B0-003     41  RedHig  Reducing highside using motorgrader   \n",
      "3   T1-001     41  RedHig  Reducing highside using motorgrader   \n",
      "4  DR1-014     42   CleDr          Cleaning drain and leadways   \n",
      "\n",
      "                                             ItmDesc  UOM       Qty  \n",
      "0                                     general upkeep  sqm  1.000000  \n",
      "1                         Motor grader (120 -140 hp)  sqm  0.000457  \n",
      "2                               Semiskilled - (s/sk)  sqm  0.000457  \n",
      "3  Transport of soil 25m to 100m by any means(inc...  sqm  0.150000  \n",
      "4  Cleaning desilting existing side drains and le...    m  1.000000  \n"
     ]
    }
   ],
   "source": [
    "df2 = pd.read_csv('hsr_temp.csv')\n",
    "print(df2.head())"
   ]
  },
  {
   "cell_type": "code",
   "execution_count": 202,
   "id": "2b940a34",
   "metadata": {},
   "outputs": [
    {
     "name": "stdout",
     "output_type": "stream",
     "text": [
      "        Itmcd district     rate\n",
      "0      B0-001      101  2900.00\n",
      "1      B0-002      101  2600.00\n",
      "2      B0-003      101  2500.00\n",
      "3      B0-004      101  2300.00\n",
      "4      B0-101      101   100.00\n",
      "...       ...      ...      ...\n",
      "7285  MS1-067      052  4420.30\n",
      "7286  MS1-068      052  5893.75\n",
      "7287  MS1-069      052  4830.25\n",
      "7288  MS1-070      052  7174.95\n",
      "7289  MS1-071      052     7.50\n",
      "\n",
      "[7290 rows x 3 columns]\n"
     ]
    }
   ],
   "source": [
    "print(df)"
   ]
  },
  {
   "cell_type": "code",
   "execution_count": 203,
   "id": "eebe533b",
   "metadata": {},
   "outputs": [
    {
     "name": "stdout",
     "output_type": "stream",
     "text": [
      "(7290, 3)\n"
     ]
    }
   ],
   "source": [
    "shape = df.shape\n",
    "print (shape)"
   ]
  },
  {
   "cell_type": "markdown",
   "id": "0d7f8064",
   "metadata": {},
   "source": [
    "Merge the DataFrames based on the common column 'Itmcd'."
   ]
  },
  {
   "cell_type": "code",
   "execution_count": 204,
   "id": "054051a0",
   "metadata": {},
   "outputs": [],
   "source": [
    "merged_df = pd.merge(df, df2, on='Itmcd')"
   ]
  },
  {
   "cell_type": "markdown",
   "id": "4a288338",
   "metadata": {},
   "source": [
    "Append the \"Year\" column with data \"2023\". If you are preparing data to another year, please change the year."
   ]
  },
  {
   "cell_type": "code",
   "execution_count": 205,
   "id": "e10f845c",
   "metadata": {},
   "outputs": [],
   "source": [
    "\n",
    "assign = merged_df.assign(Year=2023)"
   ]
  },
  {
   "cell_type": "code",
   "execution_count": 206,
   "id": "d8bbf835",
   "metadata": {},
   "outputs": [
    {
     "name": "stdout",
     "output_type": "stream",
     "text": [
      "    Itmcd district    rate  ItmNo  GrpCd                   GrpCap  \\\n",
      "0  B0-001      101  2900.0     55  Ferry  Operation ferry service   \n",
      "1  B0-001      101  2900.0     73  SndSl             Sand sealing   \n",
      "2  B0-001      101  2900.0     74  ChpSl             Chip sealing   \n",
      "3  B0-001      101  2900.0     76   SfMl          Surface milling   \n",
      "4  B0-001      081  3100.0     55  Ferry  Operation ferry service   \n",
      "\n",
      "               ItmDesc  UOM     Qty  Year  \n",
      "0  Skilled A - (sk'A')  day  1.0000  2023  \n",
      "1  Skilled A - (sk'A')  sqm  0.0006  2023  \n",
      "2  Skilled A - (sk'A')  sqm  0.0006  2023  \n",
      "3  Skilled A - (sk'A')   km  0.1000  2023  \n",
      "4  Skilled A - (sk'A')  day  1.0000  2023  \n"
     ]
    }
   ],
   "source": [
    "print(assign.head())"
   ]
  },
  {
   "cell_type": "markdown",
   "id": "23e831f6",
   "metadata": {},
   "source": [
    "There is a amount column also in RMMS template. Amount column came with the product of quantity and rate. following code create the new amount column also."
   ]
  },
  {
   "cell_type": "code",
   "execution_count": 207,
   "id": "7cce40d8",
   "metadata": {},
   "outputs": [
    {
     "name": "stdout",
     "output_type": "stream",
     "text": [
      "        Itmcd district     rate  ItmNo   GrpCd                   GrpCap  \\\n",
      "0      B0-001      101  2900.00     55   Ferry  Operation ferry service   \n",
      "1      B0-001      101  2900.00     73   SndSl             Sand sealing   \n",
      "2      B0-001      101  2900.00     74   ChpSl             Chip sealing   \n",
      "3      B0-001      101  2900.00     76    SfMl          Surface milling   \n",
      "4      B0-001      081  3100.00     55   Ferry  Operation ferry service   \n",
      "...       ...      ...      ...    ...     ...                      ...   \n",
      "1075  MS1-059      012   779.10     51  PntKrb           Painting kerbs   \n",
      "1076  MS1-059      041   680.90     51  PntKrb           Painting kerbs   \n",
      "1077  MS1-059      013   633.15     51  PntKrb           Painting kerbs   \n",
      "1078  MS1-059      082   750.70     51  PntKrb           Painting kerbs   \n",
      "1079  MS1-059      052   699.00     51  PntKrb           Painting kerbs   \n",
      "\n",
      "                                                ItmDesc  UOM     Qty  Year  \\\n",
      "0                                   Skilled A - (sk'A')  day  1.0000  2023   \n",
      "1                                   Skilled A - (sk'A')  sqm  0.0006  2023   \n",
      "2                                   Skilled A - (sk'A')  sqm  0.0006  2023   \n",
      "3                                   Skilled A - (sk'A')   km  0.1000  2023   \n",
      "4                                   Skilled A - (sk'A')  day  1.0000  2023   \n",
      "...                                                 ...  ...     ...   ...   \n",
      "1075  Painting two coats enamel paint on kerbs, afte...  sqm  1.0000  2023   \n",
      "1076  Painting two coats enamel paint on kerbs, afte...  sqm  1.0000  2023   \n",
      "1077  Painting two coats enamel paint on kerbs, afte...  sqm  1.0000  2023   \n",
      "1078  Painting two coats enamel paint on kerbs, afte...  sqm  1.0000  2023   \n",
      "1079  Painting two coats enamel paint on kerbs, afte...  sqm  1.0000  2023   \n",
      "\n",
      "          Amt  \n",
      "0     2900.00  \n",
      "1        1.74  \n",
      "2        1.74  \n",
      "3      290.00  \n",
      "4     3100.00  \n",
      "...       ...  \n",
      "1075   779.10  \n",
      "1076   680.90  \n",
      "1077   633.15  \n",
      "1078   750.70  \n",
      "1079   699.00  \n",
      "\n",
      "[1080 rows x 11 columns]\n"
     ]
    }
   ],
   "source": [
    "Amt_df = pd.DataFrame(assign)\n",
    "Amt_df['Amt'] = Amt_df['rate'] * Amt_df['Qty']\n",
    "\n",
    "print(Amt_df)"
   ]
  },
  {
   "cell_type": "code",
   "execution_count": 208,
   "id": "d3e54454",
   "metadata": {},
   "outputs": [],
   "source": [
    "# Save the merged DataFrame to an output file\n",
    "output_file = \"output.csv\"\n",
    "Amt_df.to_csv(output_file, index=False)\n"
   ]
  }
 ],
 "metadata": {
  "kernelspec": {
   "display_name": "Python 3 (ipykernel)",
   "language": "python",
   "name": "python3"
  },
  "language_info": {
   "codemirror_mode": {
    "name": "ipython",
    "version": 3
   },
   "file_extension": ".py",
   "mimetype": "text/x-python",
   "name": "python",
   "nbconvert_exporter": "python",
   "pygments_lexer": "ipython3",
   "version": "3.10.8"
  }
 },
 "nbformat": 4,
 "nbformat_minor": 5
}
